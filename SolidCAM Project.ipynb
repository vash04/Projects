{
 "cells": [
  {
   "cell_type": "markdown",
   "id": "85d0df6f",
   "metadata": {},
   "source": [
    "# Imports"
   ]
  },
  {
   "cell_type": "code",
   "execution_count": 41,
   "id": "710ba590",
   "metadata": {},
   "outputs": [],
   "source": [
    "#importing necessary libraries\n",
    "import pandas as pd\n",
    "import random"
   ]
  },
  {
   "cell_type": "markdown",
   "id": "84ab77d8",
   "metadata": {},
   "source": [
    "# Dataset Generation"
   ]
  },
  {
   "cell_type": "code",
   "execution_count": 42,
   "id": "b63119ca",
   "metadata": {},
   "outputs": [],
   "source": [
    "regions=[\"North America\", \"Europe\", \"Asia\", \"South America\", \"Africa\", \"Australia\"]\n",
    "compliance_status=[\"Compliant\", \"Non Compliant\"]"
   ]
  },
  {
   "cell_type": "code",
   "execution_count": 43,
   "id": "012b5fb3",
   "metadata": {},
   "outputs": [],
   "source": [
    "def random_ip():\n",
    "    return f\"{random.randint(1, 255)}.{random.randint(0, 255)}.{random.randint(0, 255)}.{random.randint(0, 255)}\""
   ]
  },
  {
   "cell_type": "code",
   "execution_count": 44,
   "id": "b24832e7",
   "metadata": {},
   "outputs": [],
   "source": [
    "data = {\n",
    "    \"License_Key\": [f\"KEY-{i:05d}\" for i in range(1, 10001)],  # 10,000 unique keys\n",
    "    \"User_IP\": [random_ip() for _ in range(10000)],  # Random IPs\n",
    "    \"Region\": [random.choice(regions) for _ in range(10000)],  # Random regions\n",
    "    \"Usage_Hours\": [random.randint(0, 500) for _ in range(10000)],  # Usage hours (0-500 hours)\n",
    "    \"Compliance_Status\": [random.choice(compliance_status) for _ in range(10000)]  # Compliance\n",
    "}"
   ]
  },
  {
   "cell_type": "code",
   "execution_count": 45,
   "id": "398cd16c",
   "metadata": {},
   "outputs": [
    {
     "data": {
      "text/html": [
       "<div>\n",
       "<style scoped>\n",
       "    .dataframe tbody tr th:only-of-type {\n",
       "        vertical-align: middle;\n",
       "    }\n",
       "\n",
       "    .dataframe tbody tr th {\n",
       "        vertical-align: top;\n",
       "    }\n",
       "\n",
       "    .dataframe thead th {\n",
       "        text-align: right;\n",
       "    }\n",
       "</style>\n",
       "<table border=\"1\" class=\"dataframe\">\n",
       "  <thead>\n",
       "    <tr style=\"text-align: right;\">\n",
       "      <th></th>\n",
       "      <th>License_Key</th>\n",
       "      <th>User_IP</th>\n",
       "      <th>Region</th>\n",
       "      <th>Usage_Hours</th>\n",
       "      <th>Compliance_Status</th>\n",
       "    </tr>\n",
       "  </thead>\n",
       "  <tbody>\n",
       "    <tr>\n",
       "      <th>0</th>\n",
       "      <td>KEY-00001</td>\n",
       "      <td>197.194.218.252</td>\n",
       "      <td>South America</td>\n",
       "      <td>367</td>\n",
       "      <td>Compliant</td>\n",
       "    </tr>\n",
       "    <tr>\n",
       "      <th>1</th>\n",
       "      <td>KEY-00002</td>\n",
       "      <td>4.213.85.213</td>\n",
       "      <td>North America</td>\n",
       "      <td>303</td>\n",
       "      <td>Compliant</td>\n",
       "    </tr>\n",
       "    <tr>\n",
       "      <th>2</th>\n",
       "      <td>KEY-00003</td>\n",
       "      <td>115.231.91.110</td>\n",
       "      <td>Australia</td>\n",
       "      <td>296</td>\n",
       "      <td>Compliant</td>\n",
       "    </tr>\n",
       "    <tr>\n",
       "      <th>3</th>\n",
       "      <td>KEY-00004</td>\n",
       "      <td>146.222.255.45</td>\n",
       "      <td>South America</td>\n",
       "      <td>362</td>\n",
       "      <td>Compliant</td>\n",
       "    </tr>\n",
       "    <tr>\n",
       "      <th>4</th>\n",
       "      <td>KEY-00005</td>\n",
       "      <td>146.3.151.40</td>\n",
       "      <td>Australia</td>\n",
       "      <td>293</td>\n",
       "      <td>Compliant</td>\n",
       "    </tr>\n",
       "  </tbody>\n",
       "</table>\n",
       "</div>"
      ],
      "text/plain": [
       "  License_Key          User_IP         Region  Usage_Hours Compliance_Status\n",
       "0   KEY-00001  197.194.218.252  South America          367         Compliant\n",
       "1   KEY-00002     4.213.85.213  North America          303         Compliant\n",
       "2   KEY-00003   115.231.91.110      Australia          296         Compliant\n",
       "3   KEY-00004   146.222.255.45  South America          362         Compliant\n",
       "4   KEY-00005     146.3.151.40      Australia          293         Compliant"
      ]
     },
     "execution_count": 45,
     "metadata": {},
     "output_type": "execute_result"
    }
   ],
   "source": [
    "df=pd.DataFrame(data)\n",
    "df.head()"
   ]
  },
  {
   "cell_type": "code",
   "execution_count": 46,
   "id": "daabc229",
   "metadata": {},
   "outputs": [],
   "source": [
    "df.to_csv(\"mock_compliance_dataset.csv\", index=False)"
   ]
  },
  {
   "cell_type": "markdown",
   "id": "23db36bd",
   "metadata": {},
   "source": [
    "# Visualizations"
   ]
  },
  {
   "cell_type": "code",
   "execution_count": 47,
   "id": "73d063d5",
   "metadata": {},
   "outputs": [],
   "source": [
    "import matplotlib.pyplot as plt\n",
    "import seaborn as sns"
   ]
  },
  {
   "cell_type": "markdown",
   "id": "cff1ce5f",
   "metadata": {},
   "source": [
    "Compliance status distribution"
   ]
  },
  {
   "cell_type": "code",
   "execution_count": 51,
   "id": "7f7916af",
   "metadata": {},
   "outputs": [
    {
     "data": {
      "text/plain": [
       "Compliance_Status\n",
       "Non Compliant    5008\n",
       "Compliant        4992\n",
       "Name: count, dtype: int64"
      ]
     },
     "execution_count": 51,
     "metadata": {},
     "output_type": "execute_result"
    }
   ],
   "source": [
    "compliance_counts=df[\"Compliance_Status\"].value_counts()\n",
    "compliance_counts"
   ]
  },
  {
   "cell_type": "code",
   "execution_count": 52,
   "id": "2d2328c0",
   "metadata": {},
   "outputs": [
    {
     "data": {
      "image/png": "[encoded data removed]",
      "text/plain": [
       "<Figure size 640x480 with 1 Axes>"
      ]
     },
     "metadata": {},
     "output_type": "display_data"
    }
   ],
   "source": [
    "plt.figure()\n",
    "sns.barplot(x=compliance_counts.index, y=compliance_counts.values, palette=\"viridis\")\n",
    "plt.title(\"Compliance Counts\")\n",
    "plt.xlabel(\"compliance_status\")\n",
    "plt.ylabel(\"Number of Counts\")\n",
    "plt.show()"
   ]
  },
  {
   "cell_type": "markdown",
   "id": "fd8ea211",
   "metadata": {},
   "source": [
    "Regional Insights"
   ]
  },
  {
   "cell_type": "code",
   "execution_count": 53,
   "id": "cb08b4e4",
   "metadata": {},
   "outputs": [
    {
     "data": {
      "text/html": [
       "<div>\n",
       "<style scoped>\n",
       "    .dataframe tbody tr th:only-of-type {\n",
       "        vertical-align: middle;\n",
       "    }\n",
       "\n",
       "    .dataframe tbody tr th {\n",
       "        vertical-align: top;\n",
       "    }\n",
       "\n",
       "    .dataframe thead th {\n",
       "        text-align: right;\n",
       "    }\n",
       "</style>\n",
       "<table border=\"1\" class=\"dataframe\">\n",
       "  <thead>\n",
       "    <tr style=\"text-align: right;\">\n",
       "      <th>Compliance_Status</th>\n",
       "      <th>Compliant</th>\n",
       "      <th>Non Compliant</th>\n",
       "    </tr>\n",
       "    <tr>\n",
       "      <th>Region</th>\n",
       "      <th></th>\n",
       "      <th></th>\n",
       "    </tr>\n",
       "  </thead>\n",
       "  <tbody>\n",
       "    <tr>\n",
       "      <th>Africa</th>\n",
       "      <td>818</td>\n",
       "      <td>858</td>\n",
       "    </tr>\n",
       "    <tr>\n",
       "      <th>Asia</th>\n",
       "      <td>829</td>\n",
       "      <td>803</td>\n",
       "    </tr>\n",
       "    <tr>\n",
       "      <th>Australia</th>\n",
       "      <td>851</td>\n",
       "      <td>834</td>\n",
       "    </tr>\n",
       "    <tr>\n",
       "      <th>Europe</th>\n",
       "      <td>829</td>\n",
       "      <td>850</td>\n",
       "    </tr>\n",
       "    <tr>\n",
       "      <th>North America</th>\n",
       "      <td>846</td>\n",
       "      <td>875</td>\n",
       "    </tr>\n",
       "    <tr>\n",
       "      <th>South America</th>\n",
       "      <td>819</td>\n",
       "      <td>788</td>\n",
       "    </tr>\n",
       "  </tbody>\n",
       "</table>\n",
       "</div>"
      ],
      "text/plain": [
       "Compliance_Status  Compliant  Non Compliant\n",
       "Region                                     \n",
       "Africa                   818            858\n",
       "Asia                     829            803\n",
       "Australia                851            834\n",
       "Europe                   829            850\n",
       "North America            846            875\n",
       "South America            819            788"
      ]
     },
     "execution_count": 53,
     "metadata": {},
     "output_type": "execute_result"
    }
   ],
   "source": [
    "region_stats=df.groupby([\"Region\", \"Compliance_Status\"]).size().unstack()\n",
    "region_stats"
   ]
  },
  {
   "cell_type": "code",
   "execution_count": 54,
   "id": "f9169f47",
   "metadata": {},
   "outputs": [
    {
     "data": {
      "image/png": "[encoded data removed]",
      "text/plain": [
       "<Figure size 1000x600 with 1 Axes>"
      ]
     },
     "metadata": {},
     "output_type": "display_data"
    }
   ],
   "source": [
    "region_stats.plot(kind=\"bar\", stacked=True, colormap=\"coolwarm\", figsize=(10,6))\n",
    "plt.title(\"Compliance by Region\")\n",
    "plt.xlabel(\"Region\")\n",
    "plt.ylabel(\"Number of Licenses\")\n",
    "plt.show()"
   ]
  },
  {
   "cell_type": "markdown",
   "id": "e6ea6f71",
   "metadata": {},
   "source": [
    "Top Non Compliant IP's"
   ]
  },
  {
   "cell_type": "code",
   "execution_count": 55,
   "id": "abdda453",
   "metadata": {},
   "outputs": [
    {
     "data": {
      "text/html": [
       "<div>\n",
       "<style scoped>\n",
       "    .dataframe tbody tr th:only-of-type {\n",
       "        vertical-align: middle;\n",
       "    }\n",
       "\n",
       "    .dataframe tbody tr th {\n",
       "        vertical-align: top;\n",
       "    }\n",
       "\n",
       "    .dataframe thead th {\n",
       "        text-align: right;\n",
       "    }\n",
       "</style>\n",
       "<table border=\"1\" class=\"dataframe\">\n",
       "  <thead>\n",
       "    <tr style=\"text-align: right;\">\n",
       "      <th></th>\n",
       "      <th>License_Key</th>\n",
       "      <th>User_IP</th>\n",
       "      <th>Region</th>\n",
       "      <th>Usage_Hours</th>\n",
       "      <th>Compliance_Status</th>\n",
       "    </tr>\n",
       "  </thead>\n",
       "  <tbody>\n",
       "    <tr>\n",
       "      <th>7</th>\n",
       "      <td>KEY-00008</td>\n",
       "      <td>234.137.222.14</td>\n",
       "      <td>Europe</td>\n",
       "      <td>126</td>\n",
       "      <td>Non Compliant</td>\n",
       "    </tr>\n",
       "    <tr>\n",
       "      <th>9</th>\n",
       "      <td>KEY-00010</td>\n",
       "      <td>115.12.94.0</td>\n",
       "      <td>Europe</td>\n",
       "      <td>484</td>\n",
       "      <td>Non Compliant</td>\n",
       "    </tr>\n",
       "    <tr>\n",
       "      <th>11</th>\n",
       "      <td>KEY-00012</td>\n",
       "      <td>179.58.0.200</td>\n",
       "      <td>North America</td>\n",
       "      <td>167</td>\n",
       "      <td>Non Compliant</td>\n",
       "    </tr>\n",
       "    <tr>\n",
       "      <th>14</th>\n",
       "      <td>KEY-00015</td>\n",
       "      <td>24.55.97.249</td>\n",
       "      <td>Asia</td>\n",
       "      <td>194</td>\n",
       "      <td>Non Compliant</td>\n",
       "    </tr>\n",
       "    <tr>\n",
       "      <th>16</th>\n",
       "      <td>KEY-00017</td>\n",
       "      <td>45.224.131.144</td>\n",
       "      <td>Australia</td>\n",
       "      <td>69</td>\n",
       "      <td>Non Compliant</td>\n",
       "    </tr>\n",
       "    <tr>\n",
       "      <th>...</th>\n",
       "      <td>...</td>\n",
       "      <td>...</td>\n",
       "      <td>...</td>\n",
       "      <td>...</td>\n",
       "      <td>...</td>\n",
       "    </tr>\n",
       "    <tr>\n",
       "      <th>9986</th>\n",
       "      <td>KEY-09987</td>\n",
       "      <td>113.182.11.101</td>\n",
       "      <td>South America</td>\n",
       "      <td>468</td>\n",
       "      <td>Non Compliant</td>\n",
       "    </tr>\n",
       "    <tr>\n",
       "      <th>9989</th>\n",
       "      <td>KEY-09990</td>\n",
       "      <td>34.48.159.27</td>\n",
       "      <td>South America</td>\n",
       "      <td>164</td>\n",
       "      <td>Non Compliant</td>\n",
       "    </tr>\n",
       "    <tr>\n",
       "      <th>9990</th>\n",
       "      <td>KEY-09991</td>\n",
       "      <td>126.100.224.205</td>\n",
       "      <td>Africa</td>\n",
       "      <td>89</td>\n",
       "      <td>Non Compliant</td>\n",
       "    </tr>\n",
       "    <tr>\n",
       "      <th>9992</th>\n",
       "      <td>KEY-09993</td>\n",
       "      <td>120.252.185.50</td>\n",
       "      <td>Asia</td>\n",
       "      <td>168</td>\n",
       "      <td>Non Compliant</td>\n",
       "    </tr>\n",
       "    <tr>\n",
       "      <th>9999</th>\n",
       "      <td>KEY-10000</td>\n",
       "      <td>249.14.167.192</td>\n",
       "      <td>Australia</td>\n",
       "      <td>380</td>\n",
       "      <td>Non Compliant</td>\n",
       "    </tr>\n",
       "  </tbody>\n",
       "</table>\n",
       "<p>5008 rows × 5 columns</p>\n",
       "</div>"
      ],
      "text/plain": [
       "     License_Key          User_IP         Region  Usage_Hours  \\\n",
       "7      KEY-00008   234.137.222.14         Europe          126   \n",
       "9      KEY-00010      115.12.94.0         Europe          484   \n",
       "11     KEY-00012     179.58.0.200  North America          167   \n",
       "14     KEY-00015     24.55.97.249           Asia          194   \n",
       "16     KEY-00017   45.224.131.144      Australia           69   \n",
       "...          ...              ...            ...          ...   \n",
       "9986   KEY-09987   113.182.11.101  South America          468   \n",
       "9989   KEY-09990     34.48.159.27  South America          164   \n",
       "9990   KEY-09991  126.100.224.205         Africa           89   \n",
       "9992   KEY-09993   120.252.185.50           Asia          168   \n",
       "9999   KEY-10000   249.14.167.192      Australia          380   \n",
       "\n",
       "     Compliance_Status  \n",
       "7        Non Compliant  \n",
       "9        Non Compliant  \n",
       "11       Non Compliant  \n",
       "14       Non Compliant  \n",
       "16       Non Compliant  \n",
       "...                ...  \n",
       "9986     Non Compliant  \n",
       "9989     Non Compliant  \n",
       "9990     Non Compliant  \n",
       "9992     Non Compliant  \n",
       "9999     Non Compliant  \n",
       "\n",
       "[5008 rows x 5 columns]"
      ]
     },
     "execution_count": 55,
     "metadata": {},
     "output_type": "execute_result"
    }
   ],
   "source": [
    "non_compliant_ips=df[df[\"Compliance_Status\"]==\"Non Compliant\"]\n",
    "non_compliant_ips"
   ]
  },
  {
   "cell_type": "code",
   "execution_count": 56,
   "id": "e0e6311a",
   "metadata": {},
   "outputs": [
    {
     "data": {
      "text/html": [
       "<div>\n",
       "<style scoped>\n",
       "    .dataframe tbody tr th:only-of-type {\n",
       "        vertical-align: middle;\n",
       "    }\n",
       "\n",
       "    .dataframe tbody tr th {\n",
       "        vertical-align: top;\n",
       "    }\n",
       "\n",
       "    .dataframe thead th {\n",
       "        text-align: right;\n",
       "    }\n",
       "</style>\n",
       "<table border=\"1\" class=\"dataframe\">\n",
       "  <thead>\n",
       "    <tr style=\"text-align: right;\">\n",
       "      <th></th>\n",
       "      <th>License_Key</th>\n",
       "      <th>User_IP</th>\n",
       "      <th>Region</th>\n",
       "      <th>Usage_Hours</th>\n",
       "      <th>Compliance_Status</th>\n",
       "    </tr>\n",
       "  </thead>\n",
       "  <tbody>\n",
       "    <tr>\n",
       "      <th>7881</th>\n",
       "      <td>KEY-07882</td>\n",
       "      <td>92.12.219.49</td>\n",
       "      <td>Australia</td>\n",
       "      <td>500</td>\n",
       "      <td>Non Compliant</td>\n",
       "    </tr>\n",
       "    <tr>\n",
       "      <th>4194</th>\n",
       "      <td>KEY-04195</td>\n",
       "      <td>43.34.219.6</td>\n",
       "      <td>Australia</td>\n",
       "      <td>500</td>\n",
       "      <td>Non Compliant</td>\n",
       "    </tr>\n",
       "    <tr>\n",
       "      <th>4014</th>\n",
       "      <td>KEY-04015</td>\n",
       "      <td>109.240.151.26</td>\n",
       "      <td>Africa</td>\n",
       "      <td>500</td>\n",
       "      <td>Non Compliant</td>\n",
       "    </tr>\n",
       "    <tr>\n",
       "      <th>6617</th>\n",
       "      <td>KEY-06618</td>\n",
       "      <td>175.193.99.45</td>\n",
       "      <td>Africa</td>\n",
       "      <td>500</td>\n",
       "      <td>Non Compliant</td>\n",
       "    </tr>\n",
       "    <tr>\n",
       "      <th>9011</th>\n",
       "      <td>KEY-09012</td>\n",
       "      <td>115.144.219.183</td>\n",
       "      <td>South America</td>\n",
       "      <td>500</td>\n",
       "      <td>Non Compliant</td>\n",
       "    </tr>\n",
       "    <tr>\n",
       "      <th>3855</th>\n",
       "      <td>KEY-03856</td>\n",
       "      <td>99.169.102.201</td>\n",
       "      <td>Asia</td>\n",
       "      <td>500</td>\n",
       "      <td>Non Compliant</td>\n",
       "    </tr>\n",
       "    <tr>\n",
       "      <th>1521</th>\n",
       "      <td>KEY-01522</td>\n",
       "      <td>10.70.37.23</td>\n",
       "      <td>Europe</td>\n",
       "      <td>500</td>\n",
       "      <td>Non Compliant</td>\n",
       "    </tr>\n",
       "    <tr>\n",
       "      <th>6280</th>\n",
       "      <td>KEY-06281</td>\n",
       "      <td>88.75.103.192</td>\n",
       "      <td>Australia</td>\n",
       "      <td>500</td>\n",
       "      <td>Non Compliant</td>\n",
       "    </tr>\n",
       "    <tr>\n",
       "      <th>9945</th>\n",
       "      <td>KEY-09946</td>\n",
       "      <td>89.134.75.78</td>\n",
       "      <td>Australia</td>\n",
       "      <td>500</td>\n",
       "      <td>Non Compliant</td>\n",
       "    </tr>\n",
       "    <tr>\n",
       "      <th>6104</th>\n",
       "      <td>KEY-06105</td>\n",
       "      <td>42.193.254.99</td>\n",
       "      <td>Europe</td>\n",
       "      <td>500</td>\n",
       "      <td>Non Compliant</td>\n",
       "    </tr>\n",
       "    <tr>\n",
       "      <th>5760</th>\n",
       "      <td>KEY-05761</td>\n",
       "      <td>34.24.232.27</td>\n",
       "      <td>Australia</td>\n",
       "      <td>500</td>\n",
       "      <td>Non Compliant</td>\n",
       "    </tr>\n",
       "    <tr>\n",
       "      <th>3207</th>\n",
       "      <td>KEY-03208</td>\n",
       "      <td>232.93.14.115</td>\n",
       "      <td>Asia</td>\n",
       "      <td>500</td>\n",
       "      <td>Non Compliant</td>\n",
       "    </tr>\n",
       "    <tr>\n",
       "      <th>4352</th>\n",
       "      <td>KEY-04353</td>\n",
       "      <td>244.34.32.32</td>\n",
       "      <td>Africa</td>\n",
       "      <td>500</td>\n",
       "      <td>Non Compliant</td>\n",
       "    </tr>\n",
       "    <tr>\n",
       "      <th>9578</th>\n",
       "      <td>KEY-09579</td>\n",
       "      <td>92.198.100.228</td>\n",
       "      <td>Europe</td>\n",
       "      <td>499</td>\n",
       "      <td>Non Compliant</td>\n",
       "    </tr>\n",
       "    <tr>\n",
       "      <th>691</th>\n",
       "      <td>KEY-00692</td>\n",
       "      <td>10.174.52.139</td>\n",
       "      <td>Asia</td>\n",
       "      <td>499</td>\n",
       "      <td>Non Compliant</td>\n",
       "    </tr>\n",
       "    <tr>\n",
       "      <th>1677</th>\n",
       "      <td>KEY-01678</td>\n",
       "      <td>53.188.57.29</td>\n",
       "      <td>South America</td>\n",
       "      <td>499</td>\n",
       "      <td>Non Compliant</td>\n",
       "    </tr>\n",
       "    <tr>\n",
       "      <th>5681</th>\n",
       "      <td>KEY-05682</td>\n",
       "      <td>51.40.205.152</td>\n",
       "      <td>Australia</td>\n",
       "      <td>499</td>\n",
       "      <td>Non Compliant</td>\n",
       "    </tr>\n",
       "    <tr>\n",
       "      <th>5801</th>\n",
       "      <td>KEY-05802</td>\n",
       "      <td>44.177.13.37</td>\n",
       "      <td>South America</td>\n",
       "      <td>499</td>\n",
       "      <td>Non Compliant</td>\n",
       "    </tr>\n",
       "    <tr>\n",
       "      <th>6763</th>\n",
       "      <td>KEY-06764</td>\n",
       "      <td>125.244.229.99</td>\n",
       "      <td>Europe</td>\n",
       "      <td>499</td>\n",
       "      <td>Non Compliant</td>\n",
       "    </tr>\n",
       "    <tr>\n",
       "      <th>1985</th>\n",
       "      <td>KEY-01986</td>\n",
       "      <td>229.159.112.53</td>\n",
       "      <td>Australia</td>\n",
       "      <td>499</td>\n",
       "      <td>Non Compliant</td>\n",
       "    </tr>\n",
       "  </tbody>\n",
       "</table>\n",
       "</div>"
      ],
      "text/plain": [
       "     License_Key          User_IP         Region  Usage_Hours  \\\n",
       "7881   KEY-07882     92.12.219.49      Australia          500   \n",
       "4194   KEY-04195      43.34.219.6      Australia          500   \n",
       "4014   KEY-04015   109.240.151.26         Africa          500   \n",
       "6617   KEY-06618    175.193.99.45         Africa          500   \n",
       "9011   KEY-09012  115.144.219.183  South America          500   \n",
       "3855   KEY-03856   99.169.102.201           Asia          500   \n",
       "1521   KEY-01522      10.70.37.23         Europe          500   \n",
       "6280   KEY-06281    88.75.103.192      Australia          500   \n",
       "9945   KEY-09946     89.134.75.78      Australia          500   \n",
       "6104   KEY-06105    42.193.254.99         Europe          500   \n",
       "5760   KEY-05761     34.24.232.27      Australia          500   \n",
       "3207   KEY-03208    232.93.14.115           Asia          500   \n",
       "4352   KEY-04353     244.34.32.32         Africa          500   \n",
       "9578   KEY-09579   92.198.100.228         Europe          499   \n",
       "691    KEY-00692    10.174.52.139           Asia          499   \n",
       "1677   KEY-01678     53.188.57.29  South America          499   \n",
       "5681   KEY-05682    51.40.205.152      Australia          499   \n",
       "5801   KEY-05802     44.177.13.37  South America          499   \n",
       "6763   KEY-06764   125.244.229.99         Europe          499   \n",
       "1985   KEY-01986   229.159.112.53      Australia          499   \n",
       "\n",
       "     Compliance_Status  \n",
       "7881     Non Compliant  \n",
       "4194     Non Compliant  \n",
       "4014     Non Compliant  \n",
       "6617     Non Compliant  \n",
       "9011     Non Compliant  \n",
       "3855     Non Compliant  \n",
       "1521     Non Compliant  \n",
       "6280     Non Compliant  \n",
       "9945     Non Compliant  \n",
       "6104     Non Compliant  \n",
       "5760     Non Compliant  \n",
       "3207     Non Compliant  \n",
       "4352     Non Compliant  \n",
       "9578     Non Compliant  \n",
       "691      Non Compliant  \n",
       "1677     Non Compliant  \n",
       "5681     Non Compliant  \n",
       "5801     Non Compliant  \n",
       "6763     Non Compliant  \n",
       "1985     Non Compliant  "
      ]
     },
     "execution_count": 56,
     "metadata": {},
     "output_type": "execute_result"
    }
   ],
   "source": [
    "top_non_compliant_ips=non_compliant_ips.sort_values(by=\"Usage_Hours\", ascending=False).head(20)\n",
    "top_non_compliant_ips"
   ]
  },
  {
   "cell_type": "markdown",
   "id": "d6ce9aea",
   "metadata": {},
   "source": [
    "Usage hours Distribution"
   ]
  },
  {
   "cell_type": "code",
   "execution_count": 63,
   "id": "fad4bab3",
   "metadata": {},
   "outputs": [
    {
     "data": {
      "image/png": "[encoded data removed]",
      "text/plain": [
       "<Figure size 640x480 with 1 Axes>"
      ]
     },
     "metadata": {},
     "output_type": "display_data"
    }
   ],
   "source": [
    "sns.histplot(df[\"Usage_Hours\"], bins=20, kde=True)\n",
    "plt.title(\"Usage Hours Distribution\")\n",
    "plt.xlabel(\"Hours Used\")\n",
    "plt.ylabel(\"Frequency\")\n",
    "plt.show()"
   ]
  },
  {
   "cell_type": "markdown",
   "id": "6398bedf",
   "metadata": {},
   "source": [
    "Compliance Rate by Region"
   ]
  },
  {
   "cell_type": "code",
   "execution_count": 78,
   "id": "e3d77941",
   "metadata": {},
   "outputs": [
    {
     "data": {
      "text/plain": [
       "Region\n",
       "Africa           48.806683\n",
       "Asia             50.796569\n",
       "Australia        50.504451\n",
       "Europe           49.374628\n",
       "North America    49.157467\n",
       "South America    50.964530\n",
       "dtype: float64"
      ]
     },
     "execution_count": 78,
     "metadata": {},
     "output_type": "execute_result"
    }
   ],
   "source": [
    "compliance_rate_by_region=(df[df[\"Compliance_Status\"]==\"Compliant\"].groupby(\"Region\").size()/df.groupby(\"Region\").size())*100\n",
    "compliance_rate_by_region"
   ]
  },
  {
   "cell_type": "code",
   "execution_count": 86,
   "id": "ee98c00f",
   "metadata": {},
   "outputs": [
    {
     "data": {
      "image/png": "[encoded data removed]",
      "text/plain": [
       "<Figure size 640x480 with 1 Axes>"
      ]
     },
     "metadata": {},
     "output_type": "display_data"
    }
   ],
   "source": [
    "compliance_rate_by_region.plot(kind=\"bar\", color=\"green\")\n",
    "plt.title(\"Compliance rate by region\")\n",
    "plt.xlabel(\"Region\")\n",
    "plt.ylabel(\"Percentage\")\n",
    "plt.show()"
   ]
  },
  {
   "cell_type": "markdown",
   "id": "81785c68",
   "metadata": {},
   "source": [
    "Key findings:\n",
    "- Compliance Status = 50% compliance, 49.9% non compliance as the data is random.\n",
    "- Regional Insights - North American country has the highest number of users and almost every continent has equal number of compliant and non compliant users.\n",
    "- Top Non Compliant IP's - Top 20 non compliant IP users by hours is given, we have to give attention to them.\n",
    "- Usage hours Distribution - Usage Hours distribution has minimum frequency of 340 hours and maximum frequency of 380 hours\n",
    "- Compliance Rate by Region - South America has the Highest number of compliant users."
   ]
  },
  {
   "cell_type": "code",
   "execution_count": null,
   "id": "0cf269b0",
   "metadata": {},
   "outputs": [],
   "source": []
  }
 ],
 "metadata": {
  "kernelspec": {
   "display_name": "Python 3 (ipykernel)",
   "language": "python",
   "name": "python3"
  },
  "language_info": {
   "codemirror_mode": {
    "name": "ipython",
    "version": 3
   },
   "file_extension": ".py",
   "mimetype": "text/x-python",
   "name": "python",
   "nbconvert_exporter": "python",
   "pygments_lexer": "ipython3",
   "version": "3.11.5"
  }
 },
 "nbformat": 4,
 "nbformat_minor": 5
}
